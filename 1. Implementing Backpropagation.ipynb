{
 "cells": [
  {
   "cell_type": "code",
   "execution_count": 1,
   "id": "e47ffe26",
   "metadata": {},
   "outputs": [],
   "source": [
    "import numpy as np\n",
    "import matplotlib.pyplot as plt\n",
    "import seaborn as sns\n",
    "from PIL import Image\n",
    "import os\n",
    "import sys\n",
    "from sklearn.decomposition import PCA\n",
    "from sklearn.preprocessing import StandardScaler"
   ]
  },
  {
   "cell_type": "markdown",
   "id": "23b3e189",
   "metadata": {},
   "source": [
    "# Load data"
   ]
  },
  {
   "cell_type": "code",
   "execution_count": 12,
   "id": "2ab45509",
   "metadata": {},
   "outputs": [],
   "source": [
    "def load_data(path):\n",
    "\n",
    "    arr = []\n",
    "    \n",
    "    \n",
    "    input_list = os.listdir(path)\n",
    "    y=[0]*len(input_list)\n",
    "    i=0\n",
    "    for file in sorted(input_list):\n",
    "        s = plt.imread(path+file)\n",
    "        s = s.flatten('F')\n",
    "        arr.append(s)\n",
    "        if \"happy\" in file:                                       \n",
    "                y[i] = 1 \n",
    "        i+=1        \n",
    "    arr=np.matrix(arr)\n",
    "    return arr,np.asarray(y)\n",
    "\n",
    "\n"
   ]
  },
  {
   "cell_type": "markdown",
   "id": "0f020e1f",
   "metadata": {},
   "source": [
    "# dimentionality reduction"
   ]
  },
  {
   "cell_type": "code",
   "execution_count": 13,
   "id": "10298f6f",
   "metadata": {},
   "outputs": [],
   "source": [
    "train_X,train_Y = load_data('Data/emotion_classification/train/')\n",
    "test_X,test_Y = load_data(\"Data/emotion_classification/test/\")\n",
    "\n",
    "train_X=StandardScaler().fit_transform(train_X)\n",
    "test_X=StandardScaler().fit_transform(test_X)\n",
    "\n",
    "pca = PCA(n_components = 12)                                                  \n",
    "trainPCA= np.array(pca.fit_transform(train_X))\n",
    "testPCA = np.array(pca.transform(test_X))\n",
    "trainPCA=StandardScaler().fit_transform(trainPCA)\n",
    "testPCA=StandardScaler().fit_transform(testPCA)\n"
   ]
  },
  {
   "cell_type": "markdown",
   "id": "7aa31851",
   "metadata": {},
   "source": [
    "# important functions for modeling neuran network"
   ]
  },
  {
   "cell_type": "code",
   "execution_count": 7,
   "id": "42b2a6f9",
   "metadata": {},
   "outputs": [],
   "source": [
    "def softmax(Z): \n",
    "        #for 2 classes sigmoid function is used as soft max\n",
    "        return 1/(1+np.exp(-Z))\n",
    "       \n",
    "    \n",
    "def cross_entropy(trueY,predY):\n",
    "        \n",
    "        loss = (1./20) * (-np.dot(trueY,np.log(predY + 10E-5).T) - np.dot(1-trueY, np.log(1-predY + 10E-5).T))    \n",
    "        return loss\n",
    "       \n",
    "def Relu( Z):\n",
    "    return np.maximum(0,Z)  \n",
    "\n",
    "def deriv_output(trueY,predY):\n",
    "\n",
    "        grad = - (np.divide(trueY, predY + 10E-5) - np.divide(1 - trueY, 1 - predY + 10E-5))              # dE/da = dE/dy*dy/de = deriv(cross_entropy)*deriv(softmax) [after further solving...]\n",
    "        return grad\n",
    "\n",
    "def dSigmoid( Z):\n",
    "        s = 1/(1+np.exp(-Z))\n",
    "        dZ = s * (1-s)\n",
    "        return dZ\n",
    "\n",
    "\n",
    "def dRelu(x):\n",
    "    x[x<=0] = 0\n",
    "    x[x>0] = 1\n",
    "    return x\n",
    "\n",
    "def forward(W1,W2,B1,B2,X):    \n",
    "        A1 =np.dot(W1,X.T) + B1\n",
    "        Z1 = Relu(A1)\n",
    "        \n",
    "        A2 = np.dot(W2,X.T) + B2\n",
    "        Z2 = softmax(A2)\n",
    "         \n",
    "        \n",
    "        return Z2\n",
    "    \n",
    "def model_training(train_X,train_Y,W1,W2,b1,b2): \n",
    "        \n",
    "        losses = []\n",
    "\n",
    "        for epoch in range(iterations):\n",
    "             \n",
    "            # feedforward step  \n",
    "            A1 =np.dot(W1,train_X.T) + b1\n",
    "            Z1 = Relu(A1)\n",
    "\n",
    "            A2 = np.dot(W2,Z1) + b2\n",
    "            Z2 = softmax(A2)\n",
    "            pred_Y=Z2\n",
    "          \n",
    "            losses.append(cross_entropy(train_Y,pred_Y))             \n",
    "\n",
    "            # backpropogation\n",
    "            \n",
    "            # derivative wrt output layer \n",
    "            dE_z2 = deriv_output(train_Y,pred_Y)  \n",
    "            #derivative wrt to A2\n",
    "            delta2=dE_z2 * dSigmoid(A2) \n",
    "            #derivative wrt to W2\n",
    "            Grad_W2= 1./Z1.shape[1] * np.dot(delta2,Z1.T)\n",
    "            #derivative wrt to b2\n",
    "            Grad_b2 = 1./Z1.shape[1] * np.dot(delta2, np.ones([delta2.shape[1],1])) \n",
    "                            \n",
    "            #derivative wrt to z1 \n",
    "            dE_z1 = np.dot(W2.T,delta2)\n",
    "            #derivative wrt to A1\n",
    "            delta1 = dE_z1 * dRelu(A1) \n",
    "            #derivative wrt to W1\n",
    "            Grad_W1 = 1./train_X.shape[0] * np.dot(delta1,train_X)\n",
    "            #derivative wrt to b2\n",
    "            Grad_b1 = 1./train_X.shape[0] * np.dot(delta1, np.ones([delta1.shape[1],1]))              \n",
    "\n",
    "           \n",
    "           \n",
    "                                  \n",
    "            W2-= alpha * Grad_W2            # weight updation\n",
    "            W1 -= alpha * Grad_W1\n",
    "            b1-=alpha*Grad_b1\n",
    "            b2-= alpha*Grad_b2\n",
    "            \n",
    "                                              \n",
    "                                    # plotting loss\n",
    "\n",
    "        return W1,W2,b1,b2,losses\n",
    "    \n",
    "\n",
    "            \n",
    "            \n",
    "            \n",
    "def accuracy(X,y,W1,W2,b1,b2):\n",
    "     \n",
    "        A1 =np.dot(W1,X.T) + b1\n",
    "        Z1 = Relu(A1)\n",
    "\n",
    "        A2 = np.dot(W2,Z1) + b2\n",
    "        Z2 = softmax(A2)\n",
    "        pred_Y=Z2\n",
    "        y2=y.tolist()\n",
    "\n",
    "        return sum(np.round(pred_Y)[0]==y2)/len(y2)*100            "
   ]
  },
  {
   "cell_type": "markdown",
   "id": "71db6848",
   "metadata": {},
   "source": [
    "# initialisation on neural network parameters"
   ]
  },
  {
   "cell_type": "code",
   "execution_count": 8,
   "id": "5db46619",
   "metadata": {},
   "outputs": [],
   "source": [
    "\n",
    "N = 20\n",
    "D = 12\n",
    "iterations = 20\n",
    "def init(node,a,g):\n",
    "    h1 = node\n",
    "    alpha = a\n",
    "    gamma=g\n",
    "    np.random.seed(1)\n",
    "    W1=np.random.randn(h1,D) / np.sqrt(D)\n",
    "    W2=np.random.randn(1,h1) / np.sqrt(h1)\n",
    "    b1=np.zeros((h1,1))\n",
    "    b2=np.zeros((1,1))\n",
    "    return W1,W2,b1,b2,h1,alpha,gamma\n",
    "    \n"
   ]
  },
  {
   "cell_type": "code",
   "execution_count": 14,
   "id": "abbf237d",
   "metadata": {},
   "outputs": [
    {
     "name": "stdout",
     "output_type": "stream",
     "text": [
      "accuracy at alpha =0.01  70.0\n",
      "accuracy at alpha =0.1  70.0\n",
      "accuracy at alpha =0.5  70.0\n"
     ]
    },
    {
     "data": {
      "image/png": "[encoded data removed]",
      "text/plain": [
       "<Figure size 432x288 with 1 Axes>"
      ]
     },
     "metadata": {
      "needs_background": "light"
     },
     "output_type": "display_data"
    }
   ],
   "source": [
    "\n",
    "W1,W2,b1,b2,h1,alpha,gamma=init(10,0.01,0.0)\n",
    "W_1,W_2,b_1,b_2,losses = model_training(trainPCA,train_Y,W1,W2,b1,b2)\n",
    "acc1=accuracy(testPCA,test_Y,W_1,W_2,b_1,b_2)\n",
    "plt.plot(range(1,iterations+1),losses)\n",
    "\n",
    "W1,W2,b1,b2,h1,alpha,gamma=init(10,0.1,0.0)\n",
    "W_1,W_2,b_1,b_2,losses = model_training(trainPCA,train_Y,W1,W2,b1,b2)\n",
    "acc2=accuracy(testPCA,test_Y,W_1,W_2,b_1,b_2)\n",
    "plt.plot(range(1,iterations+1),losses)\n",
    "\n",
    "W1,W2,b1,b2,h1,alpha,gamma=init(10,0.5,0.0)\n",
    "W_1,W_2,b_1,b_2,losses = model_training(trainPCA,train_Y,W1,W2,b1,b2)\n",
    "acc3=accuracy(testPCA,test_Y,W_1,W_2,b_1,b_2)\n",
    "plt.plot(range(1,iterations+1),losses)\n",
    "plt.legend([\"alpha=0.01\",\"alpha=0.1\",\"alpha=0.5\"])\n",
    "\n",
    "print(\"accuracy at alpha =0.01 \",acc1)\n",
    "print(\"accuracy at alpha =0.1 \",acc2)\n",
    "print(\"accuracy at alpha =0.5 \",acc3)"
   ]
  },
  {
   "cell_type": "markdown",
   "id": "a1dbb7aa",
   "metadata": {},
   "source": [
    "# Observation\n",
    "at alpha=0.5 we are getting conversion at epoc 20 <br>\n",
    "at alpha=0.1 we are no getting conversion under 20<br>\n",
    "at alpha=0.01 loss curve is almost straight and it converges after 400 epoch<br>\n",
    "hence alpha=0.5 is good learning rate "
   ]
  },
  {
   "cell_type": "markdown",
   "id": "d38ebd56",
   "metadata": {},
   "source": [
    "# changing width of hidden layer"
   ]
  },
  {
   "cell_type": "code",
   "execution_count": 17,
   "id": "aecd9775",
   "metadata": {},
   "outputs": [
    {
     "data": {
      "text/plain": [
       "<matplotlib.legend.Legend at 0x7f6a9ab14880>"
      ]
     },
     "execution_count": 17,
     "metadata": {},
     "output_type": "execute_result"
    },
    {
     "data": {
      "image/png": "[encoded data removed]",
      "text/plain": [
       "<Figure size 432x288 with 1 Axes>"
      ]
     },
     "metadata": {
      "needs_background": "light"
     },
     "output_type": "display_data"
    }
   ],
   "source": [
    "W1,W2,b1,b2,h1,alpha,gamma=init(8,0.5,0.0)\n",
    "W_1,W_2,b_1,b_2,losses = model_training(trainPCA,train_Y,W1,W2,b1,b2)\n",
    "acc1=accuracy(testPCA,test_Y,W_1,W_2,b_1,b_2)\n",
    "plt.plot(range(1,iterations+1),losses)\n",
    "\n",
    "W1,W2,b1,b2,h1,alpha,gamma=init(10,0.5,0.0)\n",
    "W_1,W_2,b_1,b_2,losses = model_training(trainPCA,train_Y,W1,W2,b1,b2)\n",
    "acc2=accuracy(testPCA,test_Y,W_1,W_2,b_1,b_2)\n",
    "plt.plot(range(1,iterations+1),losses)\n",
    "\n",
    "W1,W2,b1,b2,h1,alpha,gamma=init(15,0.1,0.0)\n",
    "W_1,W_2,b_1,b_2,losses = model_training(trainPCA,train_Y,W1,W2,b1,b2)\n",
    "acc3=accuracy(testPCA,test_Y,W_1,W_2,b_1,b_2)\n",
    "plt.plot(range(1,iterations+1),losses)\n",
    "plt.legend([\"node=8\",\"noded=10\",\"node=15\"])"
   ]
  },
  {
   "cell_type": "code",
   "execution_count": 18,
   "id": "64c4897a",
   "metadata": {},
   "outputs": [
    {
     "name": "stdout",
     "output_type": "stream",
     "text": [
      "accuracy at node=8  70.0\n",
      "accuracy at node=10  70.0\n",
      "accuracy at node=15  80.0\n"
     ]
    }
   ],
   "source": [
    "print(\"accuracy at node=8 \",acc1)\n",
    "print(\"accuracy at node=10 \",acc2)\n",
    "print(\"accuracy at node=15 \",acc3)"
   ]
  },
  {
   "cell_type": "markdown",
   "id": "88062bfe",
   "metadata": {},
   "source": [
    "# observation\n",
    "we can see at node=10.. loss function is converging faster at 20 epch<br>\n",
    "whereas at node=15 its taking most time to converge<br>\n",
    "\n",
    "but accuracy at node=15 is the highest"
   ]
  },
  {
   "cell_type": "code",
   "execution_count": null,
   "id": "5203e627",
   "metadata": {},
   "outputs": [],
   "source": []
  }
 ],
 "metadata": {
  "kernelspec": {
   "display_name": "Python 3 (ipykernel)",
   "language": "python",
   "name": "python3"
  },
  "language_info": {
   "codemirror_mode": {
    "name": "ipython",
    "version": 3
   },
   "file_extension": ".py",
   "mimetype": "text/x-python",
   "name": "python",
   "nbconvert_exporter": "python",
   "pygments_lexer": "ipython3",
   "version": "3.9.7"
  }
 },
 "nbformat": 4,
 "nbformat_minor": 5
}
